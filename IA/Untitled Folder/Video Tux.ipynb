{
 "cells": [
  {
   "cell_type": "code",
   "execution_count": 21,
   "id": "e110337d",
   "metadata": {},
   "outputs": [
    {
     "data": {
      "text/plain": [
       "array([[0.79192313, 0.99396753, 0.23263102, 0.29788018],\n",
       "       [0.20687271, 0.4858284 , 0.90780144, 0.58923861],\n",
       "       [0.93651294, 0.617252  , 0.63797249, 0.26124961],\n",
       "       [0.15383822, 0.84377415, 0.2708521 , 0.14710577],\n",
       "       [0.38383207, 0.47628489, 0.35220625, 0.10190867]])"
      ]
     },
     "execution_count": 21,
     "metadata": {},
     "output_type": "execute_result"
    }
   ],
   "source": [
    "import numpy as np\n",
    "data = np.random.rand(5,4)\n",
    "data # datos distribuidos \n"
   ]
  },
  {
   "cell_type": "code",
   "execution_count": 22,
   "id": "2871ccd4",
   "metadata": {},
   "outputs": [
    {
     "data": {
      "text/plain": [
       "0.48444660912999904"
      ]
     },
     "execution_count": 22,
     "metadata": {},
     "output_type": "execute_result"
    }
   ],
   "source": [
    "data.mean()"
   ]
  },
  {
   "cell_type": "code",
   "execution_count": 24,
   "id": "409f77f0",
   "metadata": {},
   "outputs": [
    {
     "data": {
      "text/html": [
       "<div>\n",
       "<style scoped>\n",
       "    .dataframe tbody tr th:only-of-type {\n",
       "        vertical-align: middle;\n",
       "    }\n",
       "\n",
       "    .dataframe tbody tr th {\n",
       "        vertical-align: top;\n",
       "    }\n",
       "\n",
       "    .dataframe thead th {\n",
       "        text-align: right;\n",
       "    }\n",
       "</style>\n",
       "<table border=\"1\" class=\"dataframe\">\n",
       "  <thead>\n",
       "    <tr style=\"text-align: right;\">\n",
       "      <th></th>\n",
       "      <th>cl</th>\n",
       "      <th>c2</th>\n",
       "      <th>c3</th>\n",
       "      <th>c4</th>\n",
       "    </tr>\n",
       "  </thead>\n",
       "  <tbody>\n",
       "    <tr>\n",
       "      <th>a</th>\n",
       "      <td>0.791923</td>\n",
       "      <td>0.993968</td>\n",
       "      <td>0.232631</td>\n",
       "      <td>0.297880</td>\n",
       "    </tr>\n",
       "    <tr>\n",
       "      <th>b</th>\n",
       "      <td>0.206873</td>\n",
       "      <td>0.485828</td>\n",
       "      <td>0.907801</td>\n",
       "      <td>0.589239</td>\n",
       "    </tr>\n",
       "    <tr>\n",
       "      <th>c</th>\n",
       "      <td>0.936513</td>\n",
       "      <td>0.617252</td>\n",
       "      <td>0.637972</td>\n",
       "      <td>0.261250</td>\n",
       "    </tr>\n",
       "    <tr>\n",
       "      <th>d</th>\n",
       "      <td>0.153838</td>\n",
       "      <td>0.843774</td>\n",
       "      <td>0.270852</td>\n",
       "      <td>0.147106</td>\n",
       "    </tr>\n",
       "    <tr>\n",
       "      <th>e</th>\n",
       "      <td>0.383832</td>\n",
       "      <td>0.476285</td>\n",
       "      <td>0.352206</td>\n",
       "      <td>0.101909</td>\n",
       "    </tr>\n",
       "  </tbody>\n",
       "</table>\n",
       "</div>"
      ],
      "text/plain": [
       "         cl        c2        c3        c4\n",
       "a  0.791923  0.993968  0.232631  0.297880\n",
       "b  0.206873  0.485828  0.907801  0.589239\n",
       "c  0.936513  0.617252  0.637972  0.261250\n",
       "d  0.153838  0.843774  0.270852  0.147106\n",
       "e  0.383832  0.476285  0.352206  0.101909"
      ]
     },
     "execution_count": 24,
     "metadata": {},
     "output_type": "execute_result"
    }
   ],
   "source": [
    "import pandas  as pd           # filas                          # \n",
    "dataframe = pd.DataFrame(data, index=['a', 'b', 'c', 'd', 'e'], columns=['cl', 'c2', 'c3', \"c4\"]) \n",
    "dataframe"
   ]
  },
  {
   "cell_type": "code",
   "execution_count": null,
   "id": "d74fa3ae",
   "metadata": {},
   "outputs": [],
   "source": []
  },
  {
   "cell_type": "code",
   "execution_count": null,
   "id": "a43f9476",
   "metadata": {},
   "outputs": [],
   "source": []
  }
 ],
 "metadata": {
  "kernelspec": {
   "display_name": "Python 3 (ipykernel)",
   "language": "python",
   "name": "python3"
  },
  "language_info": {
   "codemirror_mode": {
    "name": "ipython",
    "version": 3
   },
   "file_extension": ".py",
   "mimetype": "text/x-python",
   "name": "python",
   "nbconvert_exporter": "python",
   "pygments_lexer": "ipython3",
   "version": "3.9.13"
  }
 },
 "nbformat": 4,
 "nbformat_minor": 5
}
