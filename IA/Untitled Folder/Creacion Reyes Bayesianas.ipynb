{
 "cells": [
  {
   "cell_type": "code",
   "execution_count": 1,
   "id": "a19c440b",
   "metadata": {},
   "outputs": [],
   "source": [
    "import pyAgrum as gum\n"
   ]
  },
  {
   "cell_type": "code",
   "execution_count": null,
   "id": "f75b5f45",
   "metadata": {},
   "outputs": [],
   "source": []
  },
  {
   "cell_type": "code",
   "execution_count": 2,
   "id": "93ca9a99",
   "metadata": {},
   "outputs": [
    {
     "name": "stdout",
     "output_type": "stream",
     "text": [
      "BN{nodes: 0, arcs: 0, domainSize: 1, dim: 0, mem: 0o}\n"
     ]
    }
   ],
   "source": [
    "bn= gum.BayesNet()\n",
    "print(bn)"
   ]
  },
  {
   "cell_type": "code",
   "execution_count": 3,
   "id": "a663293a",
   "metadata": {},
   "outputs": [
    {
     "name": "stdout",
     "output_type": "stream",
     "text": [
      "0\n"
     ]
    }
   ],
   "source": [
    "#insertar una variable con      tag   alt       tamaño\n",
    "cl = bn.add(gum.LabelizedVariable(\"cl\",\"cloudy ?\", 2))\n",
    "print(cl)\n"
   ]
  },
  {
   "cell_type": "code",
   "execution_count": 4,
   "id": "3e7617f9",
   "metadata": {},
   "outputs": [
    {
     "name": "stdout",
     "output_type": "stream",
     "text": [
      "BN{nodes: 1, arcs: 0, domainSize: 2, dim: 1, mem: 16o}\n"
     ]
    }
   ],
   "source": [
    "print(bn)"
   ]
  },
  {
   "cell_type": "code",
   "execution_count": 5,
   "id": "9e58bde4",
   "metadata": {},
   "outputs": [
    {
     "name": "stdout",
     "output_type": "stream",
     "text": [
      "1 2 3\n"
     ]
    }
   ],
   "source": [
    "#agregar el resto de nodos\n",
    "\n",
    "s,r,w = [bn.add(name,2) for name in \"srw\"]\n",
    "print(s,r,w)\n",
    "\n"
   ]
  },
  {
   "cell_type": "code",
   "execution_count": 6,
   "id": "12f74b43",
   "metadata": {},
   "outputs": [
    {
     "name": "stdout",
     "output_type": "stream",
     "text": [
      "BN{nodes: 4, arcs: 0, domainSize: 16, dim: 4, mem: 64o}\n"
     ]
    }
   ],
   "source": [
    "print(bn)\n"
   ]
  },
  {
   "cell_type": "code",
   "execution_count": 7,
   "id": "033f7a91",
   "metadata": {},
   "outputs": [],
   "source": [
    "# agregar arcos\n",
    "bn.addArc(cl,s)"
   ]
  },
  {
   "cell_type": "code",
   "execution_count": 8,
   "id": "a5f9730f",
   "metadata": {},
   "outputs": [],
   "source": [
    "#agregar los demas arcos\n",
    "bn.addArc(cl,r)\n",
    "bn.addArc(r,w)\n",
    "bn.addArc(s,w)\n"
   ]
  },
  {
   "cell_type": "code",
   "execution_count": 9,
   "id": "de7eed5f",
   "metadata": {},
   "outputs": [
    {
     "name": "stdout",
     "output_type": "stream",
     "text": [
      "BN{nodes: 4, arcs: 4, domainSize: 16, dim: 9, mem: 144o}\n"
     ]
    }
   ],
   "source": [
    "print(bn)"
   ]
  },
  {
   "cell_type": "code",
   "execution_count": 12,
   "id": "9586de4a",
   "metadata": {},
   "outputs": [
    {
     "data": {
      "text/html": [
       "<svg xmlns=\"http://www.w3.org/2000/svg\" xmlns:xlink=\"http://www.w3.org/1999/xlink\" width=\"134pt\" height=\"188pt\" viewBox=\"0.00 0.00 134.00 188.00\">\n",
       "<g id=\"graph0\" class=\"graph\" transform=\"scale(1 1) rotate(0) translate(4 184)\">\n",
       "<title>G</title>\n",
       "<!-- w -->\n",
       "<g id=\"node1\" class=\"node\">\n",
       "<title>w</title>\n",
       "<g id=\"a_node1\"><a xlink:title=\"(3) w\">\n",
       "<ellipse fill=\"#404040\" stroke=\"black\" cx=\"63\" cy=\"-18\" rx=\"27\" ry=\"18\"/>\n",
       "<text text-anchor=\"middle\" x=\"63\" y=\"-14.3\" font-family=\"Times,serif\" font-size=\"14.00\" fill=\"white\">w</text>\n",
       "</a>\n",
       "</g>\n",
       "</g>\n",
       "<!-- s -->\n",
       "<g id=\"node2\" class=\"node\">\n",
       "<title>s</title>\n",
       "<g id=\"a_node2\"><a xlink:title=\"(1) s\">\n",
       "<ellipse fill=\"#404040\" stroke=\"black\" cx=\"27\" cy=\"-90\" rx=\"27\" ry=\"18\"/>\n",
       "<text text-anchor=\"middle\" x=\"27\" y=\"-86.3\" font-family=\"Times,serif\" font-size=\"14.00\" fill=\"white\">s</text>\n",
       "</a>\n",
       "</g>\n",
       "</g>\n",
       "<!-- s&#45;&gt;w -->\n",
       "<g id=\"edge2\" class=\"edge\">\n",
       "<title>s-&gt;w</title>\n",
       "<g id=\"a_edge2\"><a xlink:title=\"1 → 3\">\n",
       "<path fill=\"none\" stroke=\"#4a4a4a\" d=\"M35.35,-72.76C39.58,-64.55 44.81,-54.37 49.58,-45.09\"/>\n",
       "<polygon fill=\"#4a4a4a\" stroke=\"#4a4a4a\" points=\"52.54,-46.99 54,-36.49 46.32,-43.79 52.54,-46.99\"/>\n",
       "</a>\n",
       "</g>\n",
       "</g>\n",
       "<!-- r -->\n",
       "<g id=\"node3\" class=\"node\">\n",
       "<title>r</title>\n",
       "<g id=\"a_node3\"><a xlink:title=\"(2) r\">\n",
       "<ellipse fill=\"#404040\" stroke=\"black\" cx=\"99\" cy=\"-90\" rx=\"27\" ry=\"18\"/>\n",
       "<text text-anchor=\"middle\" x=\"99\" y=\"-86.3\" font-family=\"Times,serif\" font-size=\"14.00\" fill=\"white\">r</text>\n",
       "</a>\n",
       "</g>\n",
       "</g>\n",
       "<!-- r&#45;&gt;w -->\n",
       "<g id=\"edge4\" class=\"edge\">\n",
       "<title>r-&gt;w</title>\n",
       "<g id=\"a_edge4\"><a xlink:title=\"2 → 3\">\n",
       "<path fill=\"none\" stroke=\"#4a4a4a\" d=\"M90.65,-72.76C86.42,-64.55 81.19,-54.37 76.42,-45.09\"/>\n",
       "<polygon fill=\"#4a4a4a\" stroke=\"#4a4a4a\" points=\"79.68,-43.79 72,-36.49 73.46,-46.99 79.68,-43.79\"/>\n",
       "</a>\n",
       "</g>\n",
       "</g>\n",
       "<!-- cl -->\n",
       "<g id=\"node4\" class=\"node\">\n",
       "<title>cl</title>\n",
       "<g id=\"a_node4\"><a xlink:title=\"(0) cl\">\n",
       "<ellipse fill=\"#404040\" stroke=\"black\" cx=\"63\" cy=\"-162\" rx=\"27\" ry=\"18\"/>\n",
       "<text text-anchor=\"middle\" x=\"63\" y=\"-158.3\" font-family=\"Times,serif\" font-size=\"14.00\" fill=\"white\">cl</text>\n",
       "</a>\n",
       "</g>\n",
       "</g>\n",
       "<!-- cl&#45;&gt;s -->\n",
       "<g id=\"edge1\" class=\"edge\">\n",
       "<title>cl-&gt;s</title>\n",
       "<g id=\"a_edge1\"><a xlink:title=\"0 → 1\">\n",
       "<path fill=\"none\" stroke=\"#4a4a4a\" d=\"M54.65,-144.76C50.42,-136.55 45.19,-126.37 40.42,-117.09\"/>\n",
       "<polygon fill=\"#4a4a4a\" stroke=\"#4a4a4a\" points=\"43.68,-115.79 36,-108.49 37.46,-118.99 43.68,-115.79\"/>\n",
       "</a>\n",
       "</g>\n",
       "</g>\n",
       "<!-- cl&#45;&gt;r -->\n",
       "<g id=\"edge3\" class=\"edge\">\n",
       "<title>cl-&gt;r</title>\n",
       "<g id=\"a_edge3\"><a xlink:title=\"0 → 2\">\n",
       "<path fill=\"none\" stroke=\"#4a4a4a\" d=\"M71.35,-144.76C75.58,-136.55 80.81,-126.37 85.58,-117.09\"/>\n",
       "<polygon fill=\"#4a4a4a\" stroke=\"#4a4a4a\" points=\"88.54,-118.99 90,-108.49 82.32,-115.79 88.54,-118.99\"/>\n",
       "</a>\n",
       "</g>\n",
       "</g>\n",
       "</g>\n",
       "</svg>"
      ],
      "text/plain": [
       "(pyAgrum.BayesNet<double>@0x7fd7033ba600) BN{nodes: 4, arcs: 4, domainSize: 16, dim: 9, mem: 144o}"
      ]
     },
     "execution_count": 12,
     "metadata": {},
     "output_type": "execute_result"
    }
   ],
   "source": [
    "import pyAgrum.lib.notebook as gnb\n",
    "bn"
   ]
  },
  {
   "cell_type": "code",
   "execution_count": 15,
   "id": "7ccdac19",
   "metadata": {},
   "outputs": [
    {
     "data": {
      "text/html": [
       "<table style=\"border:1px solid black;\">\n",
       "<tr style='border:1px solid black;color:black;background-color:#808080'>\n",
       "      <th colspan='2'><center>cl</center></th></tr>\n",
       "<tr><th style='border:1px solid black;border-bottom-style: double;color:black;background-color:#BBBBBB'>\n",
       "      <center>0</center></th><th style='border:1px solid black;border-bottom-style: double;color:black;background-color:#BBBBBB'>\n",
       "      <center>1</center></th></tr>\n",
       "<tr><td style='color:black;background-color:#bfbf64;text-align:right;'>0.5000</td><td style='color:black;background-color:#bfbf64;text-align:right;'>0.5000</td></tr>\n",
       "</table>"
      ],
      "text/plain": [
       "(pyAgrum.Potential<double>@0x6000014b82e0) \n",
       "  cl               |\n",
       "0        |1        |\n",
       "---------|---------|\n",
       " 0.5000  | 0.5000  |"
      ]
     },
     "execution_count": 15,
     "metadata": {},
     "output_type": "execute_result"
    }
   ],
   "source": [
    "#agregandole los valores\n",
    "bn.cpt(cl).fillWith([0.5,0.5])"
   ]
  },
  {
   "cell_type": "markdown",
   "id": "c37fa33e",
   "metadata": {},
   "source": [
    "#probabilidad condicional <br>\n",
    "<br>\n",
    "<p>condicional de S cuando <b>cl=0</b></p>\n",
    "$P(S|cl=0)$<br>\n",
    "\n",
    "$P(S|cl=0)$"
   ]
  },
  {
   "cell_type": "code",
   "execution_count": 21,
   "id": "ec017cbc",
   "metadata": {},
   "outputs": [
    {
     "name": "stdout",
     "output_type": "stream",
     "text": [
      "[0.9 0.1]\n"
     ]
    }
   ],
   "source": [
    "#representar variable *s*\n",
    "             #F          T\n",
    "bn.cpt(s)[:]= [[0.5,0.5],[0.9,0.1]]\n",
    "print(bn.cpt(s)[1])"
   ]
  },
  {
   "cell_type": "code",
   "execution_count": 22,
   "id": "ffe68ef0",
   "metadata": {},
   "outputs": [
    {
     "data": {
      "text/html": [
       "<table style=\"border:1px solid black;\">\n",
       "<tr><th colspan='1'></th>\n",
       "      <th colspan='2' style='border:1px solid black;color:black;background-color:#808080;'><center>s</center>\n",
       "      </th></tr>\n",
       "<tr><th style='border:1px solid black;color:black;background-color:#808080'><center>cl</center></th><th style='border:1px solid black;border-bottom-style: double;color:black;background-color:#BBBBBB'>\n",
       "      <center>0</center></th><th style='border:1px solid black;border-bottom-style: double;color:black;background-color:#BBBBBB'>\n",
       "      <center>1</center></th></tr>\n",
       "<tr><th style='border:1px solid black;color:black;background-color:#BBBBBB'><center>0</center></th><td style='color:black;background-color:#bfbf64;text-align:right;'>0.5000</td><td style='color:black;background-color:#bfbf64;text-align:right;'>0.5000</td></tr>\n",
       "<tr><th style='border:1px solid black;color:black;background-color:#BBBBBB'><center>1</center></th><td style='color:black;background-color:#8bf264;text-align:right;'>0.9000</td><td style='color:black;background-color:#f28b64;text-align:right;'>0.1000</td></tr>\n",
       "</table>"
      ],
      "text/plain": [
       "(pyAgrum.Potential<double>@0x6000014b8380) \n",
       "      ||  s                |\n",
       "cl    ||0        |1        |\n",
       "------||---------|---------|\n",
       "0     || 0.5000  | 0.5000  |\n",
       "1     || 0.9000  | 0.1000  |"
      ]
     },
     "execution_count": 22,
     "metadata": {},
     "output_type": "execute_result"
    }
   ],
   "source": [
    "bn.cpt(s) #representacion tabla probabilistica"
   ]
  },
  {
   "cell_type": "code",
   "execution_count": 24,
   "id": "b8e5acce",
   "metadata": {},
   "outputs": [
    {
     "data": {
      "text/html": [
       "<table style=\"border:1px solid black;\">\n",
       "<tr><th colspan='1'></th>\n",
       "      <th colspan='2' style='border:1px solid black;color:black;background-color:#808080;'><center>r</center>\n",
       "      </th></tr>\n",
       "<tr><th style='border:1px solid black;color:black;background-color:#808080'><center>cl</center></th><th style='border:1px solid black;border-bottom-style: double;color:black;background-color:#BBBBBB'>\n",
       "      <center>0</center></th><th style='border:1px solid black;border-bottom-style: double;color:black;background-color:#BBBBBB'>\n",
       "      <center>1</center></th></tr>\n",
       "<tr><th style='border:1px solid black;color:black;background-color:#BBBBBB'><center>0</center></th><td style='color:black;background-color:#98e564;text-align:right;'>0.8000</td><td style='color:black;background-color:#e59864;text-align:right;'>0.2000</td></tr>\n",
       "<tr><th style='border:1px solid black;color:black;background-color:#BBBBBB'><center>1</center></th><td style='color:black;background-color:#e59864;text-align:right;'>0.2000</td><td style='color:black;background-color:#98e564;text-align:right;'>0.8000</td></tr>\n",
       "</table>"
      ],
      "text/plain": [
       "(pyAgrum.Potential<double>@0x6000014b84a0) \n",
       "      ||  r                |\n",
       "cl    ||0        |1        |\n",
       "------||---------|---------|\n",
       "0     || 0.8000  | 0.2000  |\n",
       "1     || 0.2000  | 0.8000  |"
      ]
     },
     "execution_count": 24,
     "metadata": {},
     "output_type": "execute_result"
    }
   ],
   "source": [
    "# escribiendolo como diccionarios\n",
    "bn.cpt (r) [{'cl': 0}]=[0.8,0.2]\n",
    "bn.cpt(r)[{'cl':1}]=[0.2,0.8]\n",
    "bn.cpt (r)"
   ]
  },
  {
   "cell_type": "code",
   "execution_count": 25,
   "id": "8c648886",
   "metadata": {},
   "outputs": [
    {
     "data": {
      "text/html": [
       "<table style=\"border:1px solid black;\">\n",
       "<tr><th colspan='2'></th>\n",
       "      <th colspan='2' style='border:1px solid black;color:black;background-color:#808080;'><center>w</center>\n",
       "      </th></tr>\n",
       "<tr><th style='border:1px solid black;color:black;background-color:#808080'><center>s</center></th><th style='border:1px solid black;color:black;background-color:#808080'><center>r</center></th><th style='border:1px solid black;border-bottom-style: double;color:black;background-color:#BBBBBB'>\n",
       "      <center>0</center></th><th style='border:1px solid black;border-bottom-style: double;color:black;background-color:#BBBBBB'>\n",
       "      <center>1</center></th></tr>\n",
       "<tr><th style='border:1px solid black;color:black;background-color:#BBBBBB;' rowspan = '2'>\n",
       "            <center>0</center></th><th style='border:1px solid black;color:black;background-color:#BBBBBB'><center>0</center></th><td style='color:black;background-color:#7fff64;text-align:right;'>1.0000</td><td style='color:black;background-color:#ff7f64;text-align:right;'>0.0000</td></tr>\n",
       "<tr><th style='border:1px solid black;color:black;background-color:#BBBBBB'><center>1</center></th><td style='color:black;background-color:#f28b64;text-align:right;'>0.1000</td><td style='color:black;background-color:#8bf264;text-align:right;'>0.9000</td></tr>\n",
       "<tr><th style='border:1px solid black;color:black;background-color:#BBBBBB;' rowspan = '2'>\n",
       "            <center>1</center></th><th style='border:1px solid black;color:black;background-color:#BBBBBB'><center>0</center></th><td style='color:black;background-color:#f28b64;text-align:right;'>0.1000</td><td style='color:black;background-color:#8bf264;text-align:right;'>0.9000</td></tr>\n",
       "<tr><th style='border:1px solid black;color:black;background-color:#BBBBBB'><center>1</center></th><td style='color:black;background-color:#fd8064;text-align:right;'>0.0100</td><td style='color:black;background-color:#80fd64;text-align:right;'>0.9900</td></tr>\n",
       "</table>"
      ],
      "text/plain": [
       "(pyAgrum.Potential<double>@0x6000014b85a0) \n",
       "             ||  w                |\n",
       "r     |s     ||0        |1        |\n",
       "------|------||---------|---------|\n",
       "0     |0     || 1.0000  | 0.0000  |\n",
       "1     |0     || 0.1000  | 0.9000  |\n",
       "0     |1     || 0.1000  | 0.9000  |\n",
       "1     |1     || 0.0100  | 0.9900  |"
      ]
     },
     "execution_count": 25,
     "metadata": {},
     "output_type": "execute_result"
    }
   ],
   "source": [
    "# probabilidades de Wet Grass?\n",
    "\n",
    "bn.cpt(w)[{'r': 0, 's': 0}] = [1, 0]\n",
    "bn.cpt (w) [{'r': 0, 's': 1}] = [0.1, 0.9]\n",
    "bn.cpt(w)[{'r': 1, \"s\": 0}] = [0.1, 0.9]\n",
    "bn.cpt (w) [{'r': 1, 's': 1}] = [0.01, 0.99]\n",
    "bn.cpt (w)"
   ]
  },
  {
   "cell_type": "code",
   "execution_count": 36,
   "id": "51c68aed",
   "metadata": {},
   "outputs": [],
   "source": [
    "#modelo inferencia\n",
    "ie =gum.LazyPropagation(bn)"
   ]
  },
  {
   "cell_type": "markdown",
   "id": "c15e1a59",
   "metadata": {},
   "source": [
    "$P(W)$"
   ]
  },
  {
   "cell_type": "code",
   "execution_count": 31,
   "id": "685453aa",
   "metadata": {},
   "outputs": [
    {
     "name": "stdout",
     "output_type": "stream",
     "text": [
      "\n",
      "  w                |\n",
      "0        |1        |\n",
      "---------|---------|\n",
      " 0.3529  | 0.6471  |\n",
      "\n"
     ]
    }
   ],
   "source": [
    "#ejecutar inferencias\n",
    "ie.makeInference()\n",
    "#distribucion para w\n",
    "print(ie.posterior(w)) # no hay evidencia"
   ]
  },
  {
   "cell_type": "markdown",
   "id": "e6fe7c88",
   "metadata": {},
   "source": [
    "$P(W|S=1,C=0)$ <br/>\n",
    "## Variavbles\n",
    "- H = Rain\n",
    "- Q = W\n",
    "- E =S, Cl"
   ]
  },
  {
   "cell_type": "code",
   "execution_count": 34,
   "id": "8f859ccb",
   "metadata": {},
   "outputs": [
    {
     "data": {
      "text/html": [
       "<table style=\"border:1px solid black;\">\n",
       "<tr style='border:1px solid black;color:black;background-color:#808080'>\n",
       "      <th colspan='2'><center>w</center></th></tr>\n",
       "<tr><th style='border:1px solid black;border-bottom-style: double;color:black;background-color:#BBBBBB'>\n",
       "      <center>0</center></th><th style='border:1px solid black;border-bottom-style: double;color:black;background-color:#BBBBBB'>\n",
       "      <center>1</center></th></tr>\n",
       "<tr><td style='color:black;background-color:#f48964;text-align:right;'>0.0820</td><td style='color:black;background-color:#89f464;text-align:right;'>0.9180</td></tr>\n",
       "</table>"
      ],
      "text/plain": [
       "(pyAgrum.Potential<double>@0x6000014a0460) \n",
       "  w                |\n",
       "0        |1        |\n",
       "---------|---------|\n",
       " 0.0820  | 0.9180  |"
      ]
     },
     "execution_count": 34,
     "metadata": {},
     "output_type": "execute_result"
    }
   ],
   "source": [
    "ie.setEvidence({\"s\":1,\"cl\":0}) # hay evidencia\n",
    "ie.makeInference()\n",
    "    ie.posterior(w)"
   ]
  },
  {
   "cell_type": "markdown",
   "id": "300febd6",
   "metadata": {},
   "source": [
    "$P(W|s=1,cl=0)$ <br/>\n"
   ]
  },
  {
   "cell_type": "code",
   "execution_count": 35,
   "id": "23ae5857",
   "metadata": {},
   "outputs": [
    {
     "data": {
      "text/html": [
       "<table style=\"border:1px solid black;\">\n",
       "<tr style='border:1px solid black;color:black;background-color:#808080'>\n",
       "      <th colspan='2'><center>w</center></th></tr>\n",
       "<tr><th style='border:1px solid black;border-bottom-style: double;color:black;background-color:#BBBBBB'>\n",
       "      <center>0</center></th><th style='border:1px solid black;border-bottom-style: double;color:black;background-color:#BBBBBB'>\n",
       "      <center>1</center></th></tr>\n",
       "<tr><td style='color:black;background-color:#96e764;text-align:right;'>0.8200</td><td style='color:black;background-color:#e79664;text-align:right;'>0.1800</td></tr>\n",
       "</table>"
      ],
      "text/plain": [
       "(pyAgrum.Potential<double>@0x6000014a01c0) \n",
       "  w                |\n",
       "0        |1        |\n",
       "---------|---------|\n",
       " 0.8200  | 0.1800  |"
      ]
     },
     "execution_count": 35,
     "metadata": {},
     "output_type": "execute_result"
    }
   ],
   "source": [
    "ie.setEvidence({\"s\":0,\"cl\":0}) # existe evidencia\n",
    "ie.makeInference()\n",
    "ie.posterior(w)"
   ]
  },
  {
   "cell_type": "code",
   "execution_count": null,
   "id": "3d6c4c12",
   "metadata": {},
   "outputs": [],
   "source": []
  }
 ],
 "metadata": {
  "kernelspec": {
   "display_name": "Python 3 (ipykernel)",
   "language": "python",
   "name": "python3"
  },
  "language_info": {
   "codemirror_mode": {
    "name": "ipython",
    "version": 3
   },
   "file_extension": ".py",
   "mimetype": "text/x-python",
   "name": "python",
   "nbconvert_exporter": "python",
   "pygments_lexer": "ipython3",
   "version": "3.9.13"
  }
 },
 "nbformat": 4,
 "nbformat_minor": 5
}
